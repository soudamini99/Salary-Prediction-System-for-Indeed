{
 "cells": [
  {
   "cell_type": "code",
   "execution_count": 465,
   "metadata": {},
   "outputs": [],
   "source": [
    "import csv\n",
    "import numpy as np\n",
    "import pandas as pd\n",
    "from sklearn import datasets, linear_model\n",
    "from sklearn.model_selection import train_test_split\n",
    "from sklearn.preprocessing import LabelEncoder\n"
   ]
  },
  {
   "cell_type": "code",
   "execution_count": 466,
   "metadata": {},
   "outputs": [
    {
     "data": {
      "text/plain": [
       "(1000000, 8)"
      ]
     },
     "execution_count": 466,
     "metadata": {},
     "output_type": "execute_result"
    }
   ],
   "source": [
    "# Loading the training data\n",
    "traindata= pd.read_csv(\"train_features_2013-03-07.csv\")\n",
    "traindata.shape\n"
   ]
  },
  {
   "cell_type": "code",
   "execution_count": 467,
   "metadata": {},
   "outputs": [
    {
     "data": {
      "text/plain": [
       "jobId                  0\n",
       "companyId              0\n",
       "jobType                0\n",
       "degree                 0\n",
       "major                  0\n",
       "industry               0\n",
       "yearsExperience        0\n",
       "milesFromMetropolis    0\n",
       "dtype: int64"
      ]
     },
     "execution_count": 467,
     "metadata": {},
     "output_type": "execute_result"
    }
   ],
   "source": [
    "traindata.isnull().sum()\n"
   ]
  },
  {
   "cell_type": "code",
   "execution_count": 468,
   "metadata": {},
   "outputs": [],
   "source": [
    "trainclasses = pd.read_csv(\"train_salaries_2013-03-07.csv\")\n",
    "salaries= trainclasses.salary\n",
    "#Merging the classses and attributes columns\n",
    "totaldata = pd.merge(traindata, trainclasses, how= \"left\")\n",
    "# The attribute values must be integers or float values. So label encoding converts the string to int/ float\n",
    "labelencoder = LabelEncoder()\n",
    "for col in totaldata.columns:\n",
    "    totaldata[col] = labelencoder.fit_transform(totaldata[col])\n",
    "    "
   ]
  },
  {
   "cell_type": "code",
   "execution_count": 469,
   "metadata": {},
   "outputs": [
    {
     "data": {
      "text/html": [
       "<div>\n",
       "<style>\n",
       "    .dataframe thead tr:only-child th {\n",
       "        text-align: right;\n",
       "    }\n",
       "\n",
       "    .dataframe thead th {\n",
       "        text-align: left;\n",
       "    }\n",
       "\n",
       "    .dataframe tbody tr th {\n",
       "        vertical-align: top;\n",
       "    }\n",
       "</style>\n",
       "<table border=\"1\" class=\"dataframe\">\n",
       "  <thead>\n",
       "    <tr style=\"text-align: right;\">\n",
       "      <th></th>\n",
       "      <th>jobId</th>\n",
       "      <th>companyId</th>\n",
       "      <th>jobType</th>\n",
       "      <th>degree</th>\n",
       "      <th>major</th>\n",
       "      <th>industry</th>\n",
       "      <th>yearsExperience</th>\n",
       "      <th>milesFromMetropolis</th>\n",
       "      <th>salary</th>\n",
       "    </tr>\n",
       "  </thead>\n",
       "  <tbody>\n",
       "    <tr>\n",
       "      <th>count</th>\n",
       "      <td>1000000.000000</td>\n",
       "      <td>1000000.000000</td>\n",
       "      <td>1000000.000000</td>\n",
       "      <td>1000000.000000</td>\n",
       "      <td>1000000.000000</td>\n",
       "      <td>1000000.000000</td>\n",
       "      <td>1000000.000000</td>\n",
       "      <td>1000000.000000</td>\n",
       "      <td>1000000.000000</td>\n",
       "    </tr>\n",
       "    <tr>\n",
       "      <th>mean</th>\n",
       "      <td>499999.500000</td>\n",
       "      <td>31.004196</td>\n",
       "      <td>3.505316</td>\n",
       "      <td>2.122665</td>\n",
       "      <td>5.419789</td>\n",
       "      <td>3.000333</td>\n",
       "      <td>11.992386</td>\n",
       "      <td>49.529260</td>\n",
       "      <td>100.061876</td>\n",
       "    </tr>\n",
       "    <tr>\n",
       "      <th>std</th>\n",
       "      <td>288675.278933</td>\n",
       "      <td>18.169813</td>\n",
       "      <td>2.291724</td>\n",
       "      <td>1.408910</td>\n",
       "      <td>2.398845</td>\n",
       "      <td>2.000704</td>\n",
       "      <td>7.212391</td>\n",
       "      <td>28.877733</td>\n",
       "      <td>38.717611</td>\n",
       "    </tr>\n",
       "    <tr>\n",
       "      <th>min</th>\n",
       "      <td>0.000000</td>\n",
       "      <td>0.000000</td>\n",
       "      <td>0.000000</td>\n",
       "      <td>0.000000</td>\n",
       "      <td>0.000000</td>\n",
       "      <td>0.000000</td>\n",
       "      <td>0.000000</td>\n",
       "      <td>0.000000</td>\n",
       "      <td>0.000000</td>\n",
       "    </tr>\n",
       "    <tr>\n",
       "      <th>25%</th>\n",
       "      <td>249999.750000</td>\n",
       "      <td>15.000000</td>\n",
       "      <td>2.000000</td>\n",
       "      <td>1.000000</td>\n",
       "      <td>4.000000</td>\n",
       "      <td>1.000000</td>\n",
       "      <td>6.000000</td>\n",
       "      <td>25.000000</td>\n",
       "      <td>72.000000</td>\n",
       "    </tr>\n",
       "    <tr>\n",
       "      <th>50%</th>\n",
       "      <td>499999.500000</td>\n",
       "      <td>31.000000</td>\n",
       "      <td>4.000000</td>\n",
       "      <td>2.000000</td>\n",
       "      <td>7.000000</td>\n",
       "      <td>3.000000</td>\n",
       "      <td>12.000000</td>\n",
       "      <td>50.000000</td>\n",
       "      <td>98.000000</td>\n",
       "    </tr>\n",
       "    <tr>\n",
       "      <th>75%</th>\n",
       "      <td>749999.250000</td>\n",
       "      <td>47.000000</td>\n",
       "      <td>6.000000</td>\n",
       "      <td>3.000000</td>\n",
       "      <td>7.000000</td>\n",
       "      <td>5.000000</td>\n",
       "      <td>18.000000</td>\n",
       "      <td>75.000000</td>\n",
       "      <td>125.000000</td>\n",
       "    </tr>\n",
       "    <tr>\n",
       "      <th>max</th>\n",
       "      <td>999999.000000</td>\n",
       "      <td>62.000000</td>\n",
       "      <td>7.000000</td>\n",
       "      <td>4.000000</td>\n",
       "      <td>8.000000</td>\n",
       "      <td>6.000000</td>\n",
       "      <td>24.000000</td>\n",
       "      <td>99.000000</td>\n",
       "      <td>279.000000</td>\n",
       "    </tr>\n",
       "  </tbody>\n",
       "</table>\n",
       "</div>"
      ],
      "text/plain": [
       "                jobId       companyId         jobType          degree  \\\n",
       "count  1000000.000000  1000000.000000  1000000.000000  1000000.000000   \n",
       "mean    499999.500000       31.004196        3.505316        2.122665   \n",
       "std     288675.278933       18.169813        2.291724        1.408910   \n",
       "min          0.000000        0.000000        0.000000        0.000000   \n",
       "25%     249999.750000       15.000000        2.000000        1.000000   \n",
       "50%     499999.500000       31.000000        4.000000        2.000000   \n",
       "75%     749999.250000       47.000000        6.000000        3.000000   \n",
       "max     999999.000000       62.000000        7.000000        4.000000   \n",
       "\n",
       "                major        industry  yearsExperience  milesFromMetropolis  \\\n",
       "count  1000000.000000  1000000.000000   1000000.000000       1000000.000000   \n",
       "mean         5.419789        3.000333        11.992386            49.529260   \n",
       "std          2.398845        2.000704         7.212391            28.877733   \n",
       "min          0.000000        0.000000         0.000000             0.000000   \n",
       "25%          4.000000        1.000000         6.000000            25.000000   \n",
       "50%          7.000000        3.000000        12.000000            50.000000   \n",
       "75%          7.000000        5.000000        18.000000            75.000000   \n",
       "max          8.000000        6.000000        24.000000            99.000000   \n",
       "\n",
       "               salary  \n",
       "count  1000000.000000  \n",
       "mean       100.061876  \n",
       "std         38.717611  \n",
       "min          0.000000  \n",
       "25%         72.000000  \n",
       "50%         98.000000  \n",
       "75%        125.000000  \n",
       "max        279.000000  "
      ]
     },
     "execution_count": 469,
     "metadata": {},
     "output_type": "execute_result"
    }
   ],
   "source": [
    "totaldata.describe()"
   ]
  },
  {
   "cell_type": "code",
   "execution_count": 470,
   "metadata": {},
   "outputs": [
    {
     "data": {
      "text/html": [
       "<div>\n",
       "<style>\n",
       "    .dataframe thead tr:only-child th {\n",
       "        text-align: right;\n",
       "    }\n",
       "\n",
       "    .dataframe thead th {\n",
       "        text-align: left;\n",
       "    }\n",
       "\n",
       "    .dataframe tbody tr th {\n",
       "        vertical-align: top;\n",
       "    }\n",
       "</style>\n",
       "<table border=\"1\" class=\"dataframe\">\n",
       "  <thead>\n",
       "    <tr style=\"text-align: right;\">\n",
       "      <th></th>\n",
       "      <th>jobId</th>\n",
       "      <th>companyId</th>\n",
       "      <th>jobType</th>\n",
       "      <th>degree</th>\n",
       "      <th>major</th>\n",
       "      <th>industry</th>\n",
       "      <th>yearsExperience</th>\n",
       "      <th>milesFromMetropolis</th>\n",
       "      <th>salary</th>\n",
       "    </tr>\n",
       "  </thead>\n",
       "  <tbody>\n",
       "    <tr>\n",
       "      <th>0</th>\n",
       "      <td>0</td>\n",
       "      <td>31</td>\n",
       "      <td>1</td>\n",
       "      <td>3</td>\n",
       "      <td>6</td>\n",
       "      <td>3</td>\n",
       "      <td>10</td>\n",
       "      <td>83</td>\n",
       "      <td>114</td>\n",
       "    </tr>\n",
       "    <tr>\n",
       "      <th>1</th>\n",
       "      <td>1</td>\n",
       "      <td>11</td>\n",
       "      <td>0</td>\n",
       "      <td>2</td>\n",
       "      <td>7</td>\n",
       "      <td>6</td>\n",
       "      <td>3</td>\n",
       "      <td>73</td>\n",
       "      <td>85</td>\n",
       "    </tr>\n",
       "    <tr>\n",
       "      <th>2</th>\n",
       "      <td>2</td>\n",
       "      <td>48</td>\n",
       "      <td>7</td>\n",
       "      <td>1</td>\n",
       "      <td>8</td>\n",
       "      <td>3</td>\n",
       "      <td>10</td>\n",
       "      <td>38</td>\n",
       "      <td>121</td>\n",
       "    </tr>\n",
       "    <tr>\n",
       "      <th>3</th>\n",
       "      <td>3</td>\n",
       "      <td>32</td>\n",
       "      <td>5</td>\n",
       "      <td>1</td>\n",
       "      <td>2</td>\n",
       "      <td>0</td>\n",
       "      <td>8</td>\n",
       "      <td>17</td>\n",
       "      <td>126</td>\n",
       "    </tr>\n",
       "    <tr>\n",
       "      <th>4</th>\n",
       "      <td>4</td>\n",
       "      <td>60</td>\n",
       "      <td>7</td>\n",
       "      <td>0</td>\n",
       "      <td>8</td>\n",
       "      <td>2</td>\n",
       "      <td>8</td>\n",
       "      <td>16</td>\n",
       "      <td>147</td>\n",
       "    </tr>\n",
       "  </tbody>\n",
       "</table>\n",
       "</div>"
      ],
      "text/plain": [
       "   jobId  companyId  jobType  degree  major  industry  yearsExperience  \\\n",
       "0      0         31        1       3      6         3               10   \n",
       "1      1         11        0       2      7         6                3   \n",
       "2      2         48        7       1      8         3               10   \n",
       "3      3         32        5       1      2         0                8   \n",
       "4      4         60        7       0      8         2                8   \n",
       "\n",
       "   milesFromMetropolis  salary  \n",
       "0                   83     114  \n",
       "1                   73      85  \n",
       "2                   38     121  \n",
       "3                   17     126  \n",
       "4                   16     147  "
      ]
     },
     "execution_count": 470,
     "metadata": {},
     "output_type": "execute_result"
    }
   ],
   "source": [
    "#print(trainclasses)\n",
    "totaldata.head()\n",
    "\n",
    "#trainattributes.describe()"
   ]
  },
  {
   "cell_type": "code",
   "execution_count": 471,
   "metadata": {},
   "outputs": [
    {
     "data": {
      "text/html": [
       "<div>\n",
       "<style>\n",
       "    .dataframe thead tr:only-child th {\n",
       "        text-align: right;\n",
       "    }\n",
       "\n",
       "    .dataframe thead th {\n",
       "        text-align: left;\n",
       "    }\n",
       "\n",
       "    .dataframe tbody tr th {\n",
       "        vertical-align: top;\n",
       "    }\n",
       "</style>\n",
       "<table border=\"1\" class=\"dataframe\">\n",
       "  <thead>\n",
       "    <tr style=\"text-align: right;\">\n",
       "      <th></th>\n",
       "      <th>jobId</th>\n",
       "      <th>companyId</th>\n",
       "      <th>jobType</th>\n",
       "      <th>degree</th>\n",
       "      <th>major</th>\n",
       "      <th>industry</th>\n",
       "      <th>yearsExperience</th>\n",
       "      <th>milesFromMetropolis</th>\n",
       "      <th>salary</th>\n",
       "    </tr>\n",
       "  </thead>\n",
       "  <tbody>\n",
       "    <tr>\n",
       "      <th>jobId</th>\n",
       "      <td>1.000000</td>\n",
       "      <td>0.000617</td>\n",
       "      <td>0.001394</td>\n",
       "      <td>-0.002249</td>\n",
       "      <td>0.000132</td>\n",
       "      <td>0.000429</td>\n",
       "      <td>0.000913</td>\n",
       "      <td>0.001896</td>\n",
       "      <td>-0.000793</td>\n",
       "    </tr>\n",
       "    <tr>\n",
       "      <th>companyId</th>\n",
       "      <td>0.000617</td>\n",
       "      <td>1.000000</td>\n",
       "      <td>-0.000284</td>\n",
       "      <td>-0.000057</td>\n",
       "      <td>0.000780</td>\n",
       "      <td>-0.001446</td>\n",
       "      <td>0.001185</td>\n",
       "      <td>-0.001020</td>\n",
       "      <td>-0.000993</td>\n",
       "    </tr>\n",
       "    <tr>\n",
       "      <th>jobType</th>\n",
       "      <td>0.001394</td>\n",
       "      <td>-0.000284</td>\n",
       "      <td>1.000000</td>\n",
       "      <td>-0.020084</td>\n",
       "      <td>-0.020774</td>\n",
       "      <td>0.000069</td>\n",
       "      <td>-0.000186</td>\n",
       "      <td>-0.000365</td>\n",
       "      <td>-0.228673</td>\n",
       "    </tr>\n",
       "    <tr>\n",
       "      <th>degree</th>\n",
       "      <td>-0.002249</td>\n",
       "      <td>-0.000057</td>\n",
       "      <td>-0.020084</td>\n",
       "      <td>1.000000</td>\n",
       "      <td>0.370089</td>\n",
       "      <td>0.001551</td>\n",
       "      <td>-0.000144</td>\n",
       "      <td>-0.001359</td>\n",
       "      <td>-0.231791</td>\n",
       "    </tr>\n",
       "    <tr>\n",
       "      <th>major</th>\n",
       "      <td>0.000132</td>\n",
       "      <td>0.000780</td>\n",
       "      <td>-0.020774</td>\n",
       "      <td>0.370089</td>\n",
       "      <td>1.000000</td>\n",
       "      <td>0.001075</td>\n",
       "      <td>0.000012</td>\n",
       "      <td>-0.001369</td>\n",
       "      <td>-0.262432</td>\n",
       "    </tr>\n",
       "    <tr>\n",
       "      <th>industry</th>\n",
       "      <td>0.000429</td>\n",
       "      <td>-0.001446</td>\n",
       "      <td>0.000069</td>\n",
       "      <td>0.001551</td>\n",
       "      <td>0.001075</td>\n",
       "      <td>1.000000</td>\n",
       "      <td>0.000263</td>\n",
       "      <td>-0.000819</td>\n",
       "      <td>0.086502</td>\n",
       "    </tr>\n",
       "    <tr>\n",
       "      <th>yearsExperience</th>\n",
       "      <td>0.000913</td>\n",
       "      <td>0.001185</td>\n",
       "      <td>-0.000186</td>\n",
       "      <td>-0.000144</td>\n",
       "      <td>0.000012</td>\n",
       "      <td>0.000263</td>\n",
       "      <td>1.000000</td>\n",
       "      <td>0.000673</td>\n",
       "      <td>0.375014</td>\n",
       "    </tr>\n",
       "    <tr>\n",
       "      <th>milesFromMetropolis</th>\n",
       "      <td>0.001896</td>\n",
       "      <td>-0.001020</td>\n",
       "      <td>-0.000365</td>\n",
       "      <td>-0.001359</td>\n",
       "      <td>-0.001369</td>\n",
       "      <td>-0.000819</td>\n",
       "      <td>0.000673</td>\n",
       "      <td>1.000000</td>\n",
       "      <td>-0.297670</td>\n",
       "    </tr>\n",
       "    <tr>\n",
       "      <th>salary</th>\n",
       "      <td>-0.000793</td>\n",
       "      <td>-0.000993</td>\n",
       "      <td>-0.228673</td>\n",
       "      <td>-0.231791</td>\n",
       "      <td>-0.262432</td>\n",
       "      <td>0.086502</td>\n",
       "      <td>0.375014</td>\n",
       "      <td>-0.297670</td>\n",
       "      <td>1.000000</td>\n",
       "    </tr>\n",
       "  </tbody>\n",
       "</table>\n",
       "</div>"
      ],
      "text/plain": [
       "                        jobId  companyId   jobType    degree     major  \\\n",
       "jobId                1.000000   0.000617  0.001394 -0.002249  0.000132   \n",
       "companyId            0.000617   1.000000 -0.000284 -0.000057  0.000780   \n",
       "jobType              0.001394  -0.000284  1.000000 -0.020084 -0.020774   \n",
       "degree              -0.002249  -0.000057 -0.020084  1.000000  0.370089   \n",
       "major                0.000132   0.000780 -0.020774  0.370089  1.000000   \n",
       "industry             0.000429  -0.001446  0.000069  0.001551  0.001075   \n",
       "yearsExperience      0.000913   0.001185 -0.000186 -0.000144  0.000012   \n",
       "milesFromMetropolis  0.001896  -0.001020 -0.000365 -0.001359 -0.001369   \n",
       "salary              -0.000793  -0.000993 -0.228673 -0.231791 -0.262432   \n",
       "\n",
       "                     industry  yearsExperience  milesFromMetropolis    salary  \n",
       "jobId                0.000429         0.000913             0.001896 -0.000793  \n",
       "companyId           -0.001446         0.001185            -0.001020 -0.000993  \n",
       "jobType              0.000069        -0.000186            -0.000365 -0.228673  \n",
       "degree               0.001551        -0.000144            -0.001359 -0.231791  \n",
       "major                0.001075         0.000012            -0.001369 -0.262432  \n",
       "industry             1.000000         0.000263            -0.000819  0.086502  \n",
       "yearsExperience      0.000263         1.000000             0.000673  0.375014  \n",
       "milesFromMetropolis -0.000819         0.000673             1.000000 -0.297670  \n",
       "salary               0.086502         0.375014            -0.297670  1.000000  "
      ]
     },
     "execution_count": 471,
     "metadata": {},
     "output_type": "execute_result"
    }
   ],
   "source": [
    "# corelation between the attributes\n",
    "totaldata.corr()"
   ]
  },
  {
   "cell_type": "code",
   "execution_count": 472,
   "metadata": {},
   "outputs": [
    {
     "data": {
      "text/plain": [
       "0    114\n",
       "1     85\n",
       "2    121\n",
       "3    126\n",
       "4    147\n",
       "Name: salary, dtype: int64"
      ]
     },
     "execution_count": 472,
     "metadata": {},
     "output_type": "execute_result"
    }
   ],
   "source": [
    "# seperating the attributes and class after encoding\n",
    "trainattributes = totaldata.iloc[:,0:8]\n",
    "trainattributes.size\n",
    "trainclasses = totaldata.iloc[:,8]\n",
    "trainclasses.head()"
   ]
  },
  {
   "cell_type": "code",
   "execution_count": 473,
   "metadata": {},
   "outputs": [
    {
     "data": {
      "text/plain": [
       "array([[ -1.73204908e+00,  -2.30932598e-04,  -1.09320219e+00, ...,\n",
       "         -1.66441529e-04,  -2.76245011e-01,   1.15905072e+00],\n",
       "       [ -1.73204561e+00,  -1.10095828e+00,  -1.52955521e+00, ...,\n",
       "          1.49930679e+00,  -1.24679744e+00,   8.12762970e-01],\n",
       "       [ -1.73204215e+00,   9.35387315e-01,   1.52491591e+00, ...,\n",
       "         -1.66441529e-04,  -2.76245011e-01,  -3.99244148e-01],\n",
       "       ..., \n",
       "       [  1.73204215e+00,  -8.25776445e-01,   2.15856856e-01, ...,\n",
       "         -9.99815265e-01,   5.55657074e-01,   1.08979317e+00],\n",
       "       [  1.73204561e+00,  -4.40521873e-01,  -1.09320219e+00, ...,\n",
       "         -1.66441529e-04,  -8.30846401e-01,  -1.54199372e+00],\n",
       "       [  1.73204908e+00,   1.32064189e+00,   2.15856856e-01, ...,\n",
       "         -9.99815265e-01,   1.11025846e+00,  -1.33422107e+00]])"
      ]
     },
     "execution_count": 473,
     "metadata": {},
     "output_type": "execute_result"
    }
   ],
   "source": [
    "# Standardising the data. scaling between 1 and -1\n",
    "from sklearn.preprocessing import StandardScaler\n",
    "scalar = StandardScaler()\n",
    "trainscalar = scalar.fit_transform(trainattributes)\n",
    "trainscalar"
   ]
  },
  {
   "cell_type": "code",
   "execution_count": 474,
   "metadata": {},
   "outputs": [
    {
     "name": "stdout",
     "output_type": "stream",
     "text": [
      "          0         1         2         3         4         5         6  \\\n",
      "0  0.004316 -0.001414  0.077365 -0.704934 -0.704990 -0.004959  0.000224   \n",
      "1 -0.643249 -0.233091 -0.076009 -0.006004 -0.010855  0.140079 -0.465317   \n",
      "2 -0.221756  0.726091 -0.111077 -0.007469 -0.006303 -0.511903  0.193670   \n",
      "3 -0.168354 -0.209038 -0.178361 -0.005663 -0.006205 -0.676758 -0.424478   \n",
      "4  0.498000  0.199062  0.502335  0.026989  0.029605 -0.115729 -0.619373   \n",
      "5  0.129056  0.448069 -0.619589 -0.035960 -0.033665  0.416980 -0.420910   \n",
      "6  0.493977 -0.366562 -0.554846 -0.031270 -0.027455 -0.270260  0.070726   \n",
      "7  0.004551  0.001585 -0.001338  0.707068 -0.707127 -0.000909  0.000280   \n",
      "\n",
      "          7  \n",
      "0  0.005126  \n",
      "1 -0.538355  \n",
      "2 -0.334110  \n",
      "3  0.507833  \n",
      "4 -0.247808  \n",
      "5  0.212659  \n",
      "6 -0.483727  \n",
      "7 -0.000042  \n"
     ]
    }
   ],
   "source": [
    "# Principal Component Analysis to identify the features with maximum varience\n",
    "from sklearn.decomposition import PCA\n",
    "pca = PCA()\n",
    "pca.fit_transform(trainscalar)\n",
    "print(pd.DataFrame(pca.components_))\n",
    "#print(pd.DataFrame(pca.components_,columns=trainscalar,index = ['PC-1','PC-2']))\n",
    "\n",
    "\n",
    "# from the below matrix we can notice that attributes with indices 2,3,4 explain the maximum varience of 0.7 "
   ]
  },
  {
   "cell_type": "code",
   "execution_count": 475,
   "metadata": {
    "collapsed": true
   },
   "outputs": [],
   "source": [
    "covariance= pca.get_covariance()"
   ]
  },
  {
   "cell_type": "code",
   "execution_count": 476,
   "metadata": {},
   "outputs": [
    {
     "data": {
      "text/plain": [
       "array([ 1.37235915,  1.00252458,  1.00165488,  1.00048131,  0.99936059,\n",
       "        0.99757364,  0.99615226,  0.62990158])"
      ]
     },
     "execution_count": 476,
     "metadata": {},
     "output_type": "execute_result"
    }
   ],
   "source": [
    "explained_variance = pca.explained_variance_\n",
    "explained_variance\n"
   ]
  },
  {
   "cell_type": "code",
   "execution_count": 477,
   "metadata": {},
   "outputs": [
    {
     "data": {
      "image/png": "[encoded data removed]",
      "text/plain": [
       "<matplotlib.figure.Figure at 0x1a6820ed828>"
      ]
     },
     "metadata": {},
     "output_type": "display_data"
    }
   ],
   "source": [
    "# Visualizing explained varience ratio\n",
    "from matplotlib import pyplot as plt\n",
    "import numpy as np\n",
    "with plt.style.context('dark_background'):\n",
    "    plt.figure(figsize=(6,4))\n",
    "    plt.bar(np.arange(len(explained_variance)), explained_variance, alpha = 0.5, align='center' , label= 'individual explained variance')\n",
    "    plt.ylabel(\"Explained Variance Ratio\")\n",
    "    plt.xlabel(\"principal components\")\n",
    "    plt.legend(loc=\"best\")\n",
    "    \n",
    "   #plt.tight_layout()\n",
    "    plt.show()"
   ]
  },
  {
   "cell_type": "code",
   "execution_count": 478,
   "metadata": {},
   "outputs": [
    {
     "name": "stdout",
     "output_type": "stream",
     "text": [
      "        jobType  degree  major\n",
      "0             1       3      6\n",
      "1             0       2      7\n",
      "2             7       1      8\n",
      "3             5       1      2\n",
      "4             7       0      8\n",
      "5             5       1      3\n",
      "6             1       4      7\n",
      "7             4       0      2\n",
      "8             3       2      7\n",
      "9             7       0      2\n",
      "10            3       2      7\n",
      "11            0       3      8\n",
      "12            4       4      7\n",
      "13            4       3      6\n",
      "14            3       4      7\n",
      "15            2       3      0\n",
      "16            4       3      8\n",
      "17            7       3      5\n",
      "18            0       3      5\n",
      "19            0       3      8\n",
      "20            3       4      7\n",
      "21            4       4      7\n",
      "22            4       0      5\n",
      "23            4       4      7\n",
      "24            0       0      7\n",
      "25            1       0      2\n",
      "26            0       0      3\n",
      "27            2       3      1\n",
      "28            3       2      7\n",
      "29            6       1      1\n",
      "...         ...     ...    ...\n",
      "999970        6       1      6\n",
      "999971        5       4      7\n",
      "999972        4       4      7\n",
      "999973        5       1      5\n",
      "999974        5       1      6\n",
      "999975        4       2      7\n",
      "999976        7       3      5\n",
      "999977        1       4      7\n",
      "999978        7       4      7\n",
      "999979        1       0      4\n",
      "999980        2       3      0\n",
      "999981        0       3      8\n",
      "999982        4       1      4\n",
      "999983        2       3      5\n",
      "999984        2       4      7\n",
      "999985        0       4      7\n",
      "999986        7       2      7\n",
      "999987        1       3      7\n",
      "999988        4       1      1\n",
      "999989        7       2      7\n",
      "999990        3       2      7\n",
      "999991        7       4      7\n",
      "999992        5       1      8\n",
      "999993        1       3      2\n",
      "999994        1       0      3\n",
      "999995        7       0      2\n",
      "999996        2       2      7\n",
      "999997        4       2      7\n",
      "999998        1       3      7\n",
      "999999        4       0      7\n",
      "\n",
      "[1000000 rows x 3 columns]\n",
      "               jobType       degree        major\n",
      "0              MANAGER  HIGH_SCHOOL         NONE\n",
      "1               JUNIOR         NONE         NONE\n",
      "2                  CTO      MASTERS      BIOLOGY\n",
      "3              MANAGER  HIGH_SCHOOL         NONE\n",
      "4               JUNIOR     DOCTORAL      BIOLOGY\n",
      "5                  CTO      MASTERS      COMPSCI\n",
      "6               SENIOR      MASTERS      COMPSCI\n",
      "7                  CEO    BACHELORS      BIOLOGY\n",
      "8              MANAGER     DOCTORAL      PHYSICS\n",
      "9       VICE_PRESIDENT         NONE         NONE\n",
      "10             JANITOR  HIGH_SCHOOL         NONE\n",
      "11              JUNIOR     DOCTORAL   LITERATURE\n",
      "12              JUNIOR    BACHELORS         MATH\n",
      "13              JUNIOR  HIGH_SCHOOL         NONE\n",
      "14             MANAGER      MASTERS   LITERATURE\n",
      "15      VICE_PRESIDENT  HIGH_SCHOOL         NONE\n",
      "16              JUNIOR      MASTERS      PHYSICS\n",
      "17             JANITOR         NONE         NONE\n",
      "18                 CEO  HIGH_SCHOOL         NONE\n",
      "19              JUNIOR         NONE         NONE\n",
      "20                 CTO      MASTERS    CHEMISTRY\n",
      "21             JANITOR  HIGH_SCHOOL         NONE\n",
      "22              JUNIOR  HIGH_SCHOOL         NONE\n",
      "23                 CEO     DOCTORAL      BIOLOGY\n",
      "24              SENIOR  HIGH_SCHOOL         NONE\n",
      "25             JANITOR  HIGH_SCHOOL         NONE\n",
      "26             MANAGER    BACHELORS    CHEMISTRY\n",
      "27             MANAGER     DOCTORAL    CHEMISTRY\n",
      "28              SENIOR         NONE         NONE\n",
      "29             MANAGER    BACHELORS  ENGINEERING\n",
      "...                ...          ...          ...\n",
      "999970             CEO         NONE         NONE\n",
      "999971         MANAGER  HIGH_SCHOOL         NONE\n",
      "999972             CTO         NONE         NONE\n",
      "999973             CTO    BACHELORS    CHEMISTRY\n",
      "999974         JANITOR  HIGH_SCHOOL         NONE\n",
      "999975         MANAGER         NONE         NONE\n",
      "999976  VICE_PRESIDENT         NONE         NONE\n",
      "999977             CFO         NONE         NONE\n",
      "999978  VICE_PRESIDENT     DOCTORAL      COMPSCI\n",
      "999979         JANITOR  HIGH_SCHOOL         NONE\n",
      "999980             CFO     DOCTORAL      PHYSICS\n",
      "999981  VICE_PRESIDENT     DOCTORAL      COMPSCI\n",
      "999982         MANAGER  HIGH_SCHOOL         NONE\n",
      "999983         JANITOR  HIGH_SCHOOL         NONE\n",
      "999984             CFO     DOCTORAL     BUSINESS\n",
      "999985         JANITOR  HIGH_SCHOOL         NONE\n",
      "999986          SENIOR      MASTERS     BUSINESS\n",
      "999987             CFO      MASTERS         NONE\n",
      "999988             CFO         NONE         NONE\n",
      "999989             CFO         NONE         NONE\n",
      "999990          SENIOR  HIGH_SCHOOL         NONE\n",
      "999991         MANAGER     DOCTORAL      COMPSCI\n",
      "999992             CTO         NONE         NONE\n",
      "999993             CTO    BACHELORS     BUSINESS\n",
      "999994          JUNIOR      MASTERS         NONE\n",
      "999995  VICE_PRESIDENT    BACHELORS         MATH\n",
      "999996         MANAGER         NONE         NONE\n",
      "999997         JANITOR         NONE         NONE\n",
      "999998             CTO     DOCTORAL         MATH\n",
      "999999          JUNIOR         NONE         NONE\n",
      "\n",
      "[1000000 rows x 3 columns]\n"
     ]
    }
   ],
   "source": [
    "trainattributes = totaldata.iloc[:,2:5]\n",
    "print(trainattributes)\n",
    "testdata = pd.read_csv(\"test_features_2013-03-07.csv\")\n",
    "#X_train, X_test, y_train, y_test = train_test_split(trainscalar,trainclasses.salary,test_size=0.2,random_state=4)\n",
    "testfeatures = testdata.iloc[:,2:5]\n",
    "print(testfeatures)"
   ]
  },
  {
   "cell_type": "code",
   "execution_count": 479,
   "metadata": {},
   "outputs": [],
   "source": [
    "# encoding testattributes\n",
    "for col in testfeatures.columns:\n",
    "    testfeatures[col] = labelencoder.fit_transform(testfeatures[col])"
   ]
  },
  {
   "cell_type": "code",
   "execution_count": 480,
   "metadata": {},
   "outputs": [],
   "source": [
    "# Applying regression model with the features extracted from PCA\n",
    "from sklearn.linear_model import LinearRegression\n",
    "from sklearn.metrics import mean_squared_error, r2_score\n",
    "model1 =linear_model.LinearRegression()"
   ]
  },
  {
   "cell_type": "code",
   "execution_count": 481,
   "metadata": {},
   "outputs": [
    {
     "data": {
      "text/plain": [
       "LinearRegression(copy_X=True, fit_intercept=True, n_jobs=1, normalize=False)"
      ]
     },
     "execution_count": 481,
     "metadata": {},
     "output_type": "execute_result"
    }
   ],
   "source": [
    "model1.fit(trainattributes, trainclasses)"
   ]
  },
  {
   "cell_type": "code",
   "execution_count": 482,
   "metadata": {},
   "outputs": [
    {
     "name": "stdout",
     "output_type": "stream",
     "text": [
      "[  89.32118126   84.54915017  120.44930757 ...,   88.53969416  109.03664105\n",
      "   84.54915017]\n"
     ]
    }
   ],
   "source": [
    "# predicting the results\n",
    "salary_pred = model1.predict(testfeatures)\n",
    "#totaltest =pd.concat(testdata.jobId, salary_pred)\n",
    "print(salary_pred)"
   ]
  },
  {
   "cell_type": "code",
   "execution_count": 483,
   "metadata": {},
   "outputs": [],
   "source": [
    "# saving the predictions to a csv file\n",
    "prediction = pd.DataFrame(salary_pred, columns=['salary']).to_csv('test_salaries.csv')\n",
    "jobId= traindata.jobId\n",
    "\n",
    "csv_input = pd.read_csv('test_salaries.csv')\n",
    "csv_input['jobId']= jobId\n",
    "csv_input.to_csv('test_salaries.csv', index=False) \n"
   ]
  },
  {
   "cell_type": "code",
   "execution_count": 484,
   "metadata": {},
   "outputs": [
    {
     "name": "stdout",
     "output_type": "stream",
     "text": [
      "[-3.99054399 -4.38128754 -3.36254027]\n"
     ]
    }
   ],
   "source": [
    "print(model1.coef_)"
   ]
  },
  {
   "cell_type": "code",
   "execution_count": null,
   "metadata": {
    "collapsed": true
   },
   "outputs": [],
   "source": [
    "print(\"MSE\",mean_squared_error(y_test, salary_pred))"
   ]
  },
  {
   "cell_type": "code",
   "execution_count": null,
   "metadata": {},
   "outputs": [],
   "source": [
    "print(\"Explained variance\", r2_score(y_test, salary_pred))\n",
    "model1.score(X_test, salary_pred)"
   ]
  },
  {
   "cell_type": "code",
   "execution_count": null,
   "metadata": {},
   "outputs": [],
   "source": [
    "plt.scatter(y_test, salary_pred,  color='black')\n",
    "plt.plot(y_test, salary_pred)\n",
    "plt.show()"
   ]
  },
  {
   "cell_type": "code",
   "execution_count": null,
   "metadata": {
    "collapsed": true
   },
   "outputs": [],
   "source": []
  }
 ],
 "metadata": {
  "kernelspec": {
   "display_name": "Python 3",
   "language": "python",
   "name": "python3"
  },
  "language_info": {
   "codemirror_mode": {
    "name": "ipython",
    "version": 3
   },
   "file_extension": ".py",
   "mimetype": "text/x-python",
   "name": "python",
   "nbconvert_exporter": "python",
   "pygments_lexer": "ipython3",
   "version": "3.6.3"
  }
 },
 "nbformat": 4,
 "nbformat_minor": 2
}
